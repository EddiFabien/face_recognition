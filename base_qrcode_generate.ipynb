{
 "cells": [
  {
   "cell_type": "code",
   "execution_count": 2,
   "metadata": {},
   "outputs": [
    {
     "name": "stdout",
     "output_type": "stream",
     "text": [
      "Base de données créée et étudiants insérés avec succès.\n"
     ]
    }
   ],
   "source": [
    "# Create a database of student\n",
    "import sqlite3\n",
    "\n",
    "# Connexion à la base de données (elle sera créée si elle n'existe pas)\n",
    "conn = sqlite3.connect('student_base.db')\n",
    "cursor = conn.cursor()\n",
    "\n",
    "# Création de la table des étudiants\n",
    "cursor.execute('''\n",
    "CREATE TABLE IF NOT EXISTS students (\n",
    "    matricule TEXT PRIMARY KEY,\n",
    "    nom TEXT NOT NULL,\n",
    "    prenom TEXT NOT NULL,\n",
    "    mention TEXT NOT NULL,\n",
    "    parcours TEXT NOT NULL,\n",
    "    grade TEXT NOT NULL,\n",
    "    niveau TEXT NOT NULL\n",
    ")\n",
    "''')\n",
    "\n",
    "# Insertion de quelques étudiants\n",
    "students = [\n",
    "    ('2024001', 'Rakotonimanana', 'Eddi Fabien', 'Intelligence Artificielle', 'Gouvernance et Ingénierie de Donnée', 'Master', 'Niveau 2'),\n",
    "    ('2024002', 'Rakotonimanana', 'Jennie', 'Intelligence Artificielle', 'Gouvernance et Ingénierie de Donnée', 'Master', 'Niveau 1'),\n",
    "]\n",
    "\n",
    "cursor.executemany('''\n",
    "INSERT INTO students (matricule, nom, prenom, mention, parcours, grade, niveau)\n",
    "VALUES (?, ?, ?, ?, ?, ?, ?)\n",
    "''', students)\n",
    "\n",
    "# Sauvegarder les changements et fermer la connexion\n",
    "conn.commit()\n",
    "conn.close()\n",
    "\n",
    "print(\"Base de données créée et étudiants insérés avec succès.\")\n"
   ]
  },
  {
   "cell_type": "code",
   "execution_count": 38,
   "metadata": {},
   "outputs": [
    {
     "name": "stdout",
     "output_type": "stream",
     "text": [
      "QR code généré pour Eddi Fabien Rakotonimanana (Matricule: 2024001)\n",
      "QR code généré pour Jennie Rakotonimanana (Matricule: 2024002)\n"
     ]
    }
   ],
   "source": [
    "import sqlite3\n",
    "import qrcode\n",
    "import os\n",
    "\n",
    "# Connexion à la base de données\n",
    "conn = sqlite3.connect('student_base.db')\n",
    "cursor = conn.cursor()\n",
    "\n",
    "# Récupérer tous les étudiants de la base\n",
    "cursor.execute(\"SELECT * FROM students\")\n",
    "students = cursor.fetchall()\n",
    "\n",
    "# Dossier où les QR codes seront enregistrés\n",
    "qr_folder = 'qrcodes_generate'\n",
    "if not os.path.exists(qr_folder):\n",
    "    os.makedirs(qr_folder)\n",
    "\n",
    "# Générer un QR code pour chaque étudiant\n",
    "for student in students:\n",
    "    matricule, nom, prenom, mention, parcours, grade, niveau = student\n",
    "    qr_data = f\"Matricule: {matricule}\\nNom: {nom}\\nPrenom: {prenom}\\nMention: {mention}\\nParcours: {parcours}\\nGrade: {grade}\\nNiveau: {niveau}\"\n",
    "\n",
    "    # Générer le QR code\n",
    "    img = qrcode.make(qr_data)\n",
    "\n",
    "    # Sauvegarder l'image du QR code avec le numéro de matricule de l'étudiant\n",
    "    qr_path = os.path.join(qr_folder, f'{matricule}.png')\n",
    "    img.save(qr_path)\n",
    "\n",
    "    print(f\"QR code généré pour {prenom} {nom} (Matricule: {matricule})\")\n",
    "\n",
    "# Fermer la connexion à la base de données\n",
    "conn.close()\n"
   ]
  }
 ],
 "metadata": {
  "kernelspec": {
   "display_name": "base",
   "language": "python",
   "name": "python3"
  },
  "language_info": {
   "codemirror_mode": {
    "name": "ipython",
    "version": 3
   },
   "file_extension": ".py",
   "mimetype": "text/x-python",
   "name": "python",
   "nbconvert_exporter": "python",
   "pygments_lexer": "ipython3",
   "version": "3.11.7"
  }
 },
 "nbformat": 4,
 "nbformat_minor": 2
}
